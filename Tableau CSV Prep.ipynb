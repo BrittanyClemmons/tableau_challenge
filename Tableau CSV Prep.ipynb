{
 "cells": [
  {
   "cell_type": "code",
   "execution_count": 2,
   "metadata": {},
   "outputs": [],
   "source": [
    "import pandas as pd"
   ]
  },
  {
   "cell_type": "code",
   "execution_count": 3,
   "metadata": {},
   "outputs": [],
   "source": [
    "# Joining csv files in union\n",
    "# Jersey City csv files\n",
    "csv1 = pd.read_csv(r\"C:\\Users\\Brittany Clemmons\\Documents\\My Tableau Repository\\Datasources\\CitibikeData\\JerseyCity_Citibike_2019\\JC-201901-citibike-tripdata.csv\")\n",
    "csv2 = pd.read_csv(r\"C:\\Users\\Brittany Clemmons\\Documents\\My Tableau Repository\\Datasources\\CitibikeData\\JerseyCity_Citibike_2019\\JC-201902-citibike-tripdata.csv\")\n",
    "csv3 = pd.read_csv(r\"C:\\Users\\Brittany Clemmons\\Documents\\My Tableau Repository\\Datasources\\CitibikeData\\JerseyCity_Citibike_2019\\JC-201903-citibike-tripdata.csv\")"
   ]
  },
  {
   "cell_type": "code",
   "execution_count": 4,
   "metadata": {},
   "outputs": [
    {
     "name": "stdout",
     "output_type": "stream",
     "text": [
      "       tripduration                 starttime                  stoptime  \\\n",
      "0               201  2019-01-01 03:09:09.7110  2019-01-01 03:12:30.8790   \n",
      "1               505  2019-01-01 05:18:00.1060  2019-01-01 05:26:25.9050   \n",
      "2               756  2019-01-01 10:36:33.3400  2019-01-01 10:49:10.2600   \n",
      "3              1575  2019-01-01 12:43:38.6430  2019-01-01 13:09:54.5280   \n",
      "4              1566  2019-01-01 12:43:39.6010  2019-01-01 13:09:46.5100   \n",
      "...             ...                       ...                       ...   \n",
      "19671           853  2019-01-26 06:40:17.3320  2019-01-26 06:54:30.8880   \n",
      "19672           936  2019-01-27 06:36:20.6400  2019-01-27 06:51:57.1460   \n",
      "19673           653  2019-01-27 21:14:08.5460  2019-01-27 21:25:01.6170   \n",
      "19674           960  2019-01-29 06:15:26.5880  2019-01-29 06:31:26.7300   \n",
      "19675          1109  2019-01-30 06:30:03.6050  2019-01-30 06:48:33.2760   \n",
      "\n",
      "       start station id start station name  start station latitude  \\\n",
      "0                  3183     Exchange Place               40.716247   \n",
      "1                  3183     Exchange Place               40.716247   \n",
      "2                  3183     Exchange Place               40.716247   \n",
      "3                  3183     Exchange Place               40.716247   \n",
      "4                  3183     Exchange Place               40.716247   \n",
      "...                 ...                ...                     ...   \n",
      "19671              3694     Jackson Square               40.711130   \n",
      "19672              3694     Jackson Square               40.711130   \n",
      "19673              3694     Jackson Square               40.711130   \n",
      "19674              3694     Jackson Square               40.711130   \n",
      "19675              3694     Jackson Square               40.711130   \n",
      "\n",
      "       start station longitude  end station id    end station name  \\\n",
      "0                   -74.033459            3214    Essex Light Rail   \n",
      "1                   -74.033459            3638       Washington St   \n",
      "2                   -74.033459            3192  Liberty Light Rail   \n",
      "3                   -74.033459            3638       Washington St   \n",
      "4                   -74.033459            3638       Washington St   \n",
      "...                        ...             ...                 ...   \n",
      "19671               -74.078900            3183      Exchange Place   \n",
      "19672               -74.078900            3183      Exchange Place   \n",
      "19673               -74.078900            3677        Glenwood Ave   \n",
      "19674               -74.078900            3183      Exchange Place   \n",
      "19675               -74.078900            3183      Exchange Place   \n",
      "\n",
      "       end station latitude  end station longitude  bikeid    usertype  \\\n",
      "0                 40.712774             -74.036486   29612  Subscriber   \n",
      "1                 40.724294             -74.035483   29213  Subscriber   \n",
      "2                 40.711242             -74.055701   26164  Subscriber   \n",
      "3                 40.724294             -74.035483   29672    Customer   \n",
      "4                 40.724294             -74.035483   29522    Customer   \n",
      "...                     ...                    ...     ...         ...   \n",
      "19671             40.716247             -74.033459   26293  Subscriber   \n",
      "19672             40.716247             -74.033459   26291  Subscriber   \n",
      "19673             40.727551             -74.071061   26188    Customer   \n",
      "19674             40.716247             -74.033459   26196  Subscriber   \n",
      "19675             40.716247             -74.033459   26242  Subscriber   \n",
      "\n",
      "       birth year  gender  \n",
      "0            1993       1  \n",
      "1            1972       2  \n",
      "2            1985       1  \n",
      "3            1969       0  \n",
      "4            1969       0  \n",
      "...           ...     ...  \n",
      "19671        1977       1  \n",
      "19672        1977       1  \n",
      "19673        1998       2  \n",
      "19674        1977       1  \n",
      "19675        1977       1  \n",
      "\n",
      "[19676 rows x 15 columns]\n"
     ]
    }
   ],
   "source": [
    "print(csv1)"
   ]
  },
  {
   "cell_type": "code",
   "execution_count": null,
   "metadata": {},
   "outputs": [],
   "source": []
  },
  {
   "cell_type": "code",
   "execution_count": null,
   "metadata": {},
   "outputs": [],
   "source": []
  }
 ],
 "metadata": {
  "kernelspec": {
   "display_name": "Python [conda env:PythonData] *",
   "language": "python",
   "name": "conda-env-PythonData-py"
  },
  "language_info": {
   "codemirror_mode": {
    "name": "ipython",
    "version": 3
   },
   "file_extension": ".py",
   "mimetype": "text/x-python",
   "name": "python",
   "nbconvert_exporter": "python",
   "pygments_lexer": "ipython3",
   "version": "3.7.4"
  }
 },
 "nbformat": 4,
 "nbformat_minor": 2
}
